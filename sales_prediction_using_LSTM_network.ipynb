{
 "cells": [
  {
   "cell_type": "code",
   "execution_count": 36,
   "id": "5ffc9b0d",
   "metadata": {
    "id": "5ffc9b0d"
   },
   "outputs": [],
   "source": [
    "import pandas as pd\n",
    "import warnings\n",
    "from statsmodels.tsa.stattools import adfuller\n",
    "import numpy as np\n",
    "from sklearn.preprocessing import MinMaxScaler\n",
    "from keras.layers import Dense, LSTM, Dropout\n",
    "from keras.models import Sequential\n",
    "import keras\n",
    "import matplotlib.pyplot as plt\n",
    "from math import sqrt\n",
    "from sklearn.metrics import mean_squared_error as MSE\n",
    "from datetime import timedelta\n",
    "\n",
    "import statsmodels.formula.api as smf\n",
    "\n",
    "warnings.filterwarnings('ignore')\n",
    "pd.set_option('display.max_columns', None)"
   ]
  },
  {
   "cell_type": "code",
   "execution_count": 38,
   "id": "Tb6wpya2w5u9",
   "metadata": {
    "colab": {
     "base_uri": "https://localhost:8080/",
     "height": 206
    },
    "id": "Tb6wpya2w5u9",
    "outputId": "068eade0-3169-49c4-ac04-2c1f243a1fc7"
   },
   "outputs": [
    {
     "data": {
      "text/html": [
       "\n",
       "  <div id=\"df-dd3f4922-9b81-4445-9499-b42e20a6271a\">\n",
       "    <div class=\"colab-df-container\">\n",
       "      <div>\n",
       "<style scoped>\n",
       "    .dataframe tbody tr th:only-of-type {\n",
       "        vertical-align: middle;\n",
       "    }\n",
       "\n",
       "    .dataframe tbody tr th {\n",
       "        vertical-align: top;\n",
       "    }\n",
       "\n",
       "    .dataframe thead th {\n",
       "        text-align: right;\n",
       "    }\n",
       "</style>\n",
       "<table border=\"1\" class=\"dataframe\">\n",
       "  <thead>\n",
       "    <tr style=\"text-align: right;\">\n",
       "      <th></th>\n",
       "      <th>Date</th>\n",
       "      <th>Number_of</th>\n",
       "    </tr>\n",
       "  </thead>\n",
       "  <tbody>\n",
       "    <tr>\n",
       "      <th>0</th>\n",
       "      <td>2016-06-27/2016-07-03</td>\n",
       "      <td>5</td>\n",
       "    </tr>\n",
       "    <tr>\n",
       "      <th>1</th>\n",
       "      <td>2016-07-04/2016-07-10</td>\n",
       "      <td>8</td>\n",
       "    </tr>\n",
       "    <tr>\n",
       "      <th>2</th>\n",
       "      <td>2016-07-11/2016-07-17</td>\n",
       "      <td>2</td>\n",
       "    </tr>\n",
       "    <tr>\n",
       "      <th>3</th>\n",
       "      <td>2016-07-18/2016-07-24</td>\n",
       "      <td>2</td>\n",
       "    </tr>\n",
       "    <tr>\n",
       "      <th>4</th>\n",
       "      <td>2016-07-25/2016-07-31</td>\n",
       "      <td>3</td>\n",
       "    </tr>\n",
       "  </tbody>\n",
       "</table>\n",
       "</div>\n",
       "      <button class=\"colab-df-convert\" onclick=\"convertToInteractive('df-dd3f4922-9b81-4445-9499-b42e20a6271a')\"\n",
       "              title=\"Convert this dataframe to an interactive table.\"\n",
       "              style=\"display:none;\">\n",
       "        \n",
       "  <svg xmlns=\"http://www.w3.org/2000/svg\" height=\"24px\"viewBox=\"0 0 24 24\"\n",
       "       width=\"24px\">\n",
       "    <path d=\"M0 0h24v24H0V0z\" fill=\"none\"/>\n",
       "    <path d=\"M18.56 5.44l.94 2.06.94-2.06 2.06-.94-2.06-.94-.94-2.06-.94 2.06-2.06.94zm-11 1L8.5 8.5l.94-2.06 2.06-.94-2.06-.94L8.5 2.5l-.94 2.06-2.06.94zm10 10l.94 2.06.94-2.06 2.06-.94-2.06-.94-.94-2.06-.94 2.06-2.06.94z\"/><path d=\"M17.41 7.96l-1.37-1.37c-.4-.4-.92-.59-1.43-.59-.52 0-1.04.2-1.43.59L10.3 9.45l-7.72 7.72c-.78.78-.78 2.05 0 2.83L4 21.41c.39.39.9.59 1.41.59.51 0 1.02-.2 1.41-.59l7.78-7.78 2.81-2.81c.8-.78.8-2.07 0-2.86zM5.41 20L4 18.59l7.72-7.72 1.47 1.35L5.41 20z\"/>\n",
       "  </svg>\n",
       "      </button>\n",
       "      \n",
       "  <style>\n",
       "    .colab-df-container {\n",
       "      display:flex;\n",
       "      flex-wrap:wrap;\n",
       "      gap: 12px;\n",
       "    }\n",
       "\n",
       "    .colab-df-convert {\n",
       "      background-color: #E8F0FE;\n",
       "      border: none;\n",
       "      border-radius: 50%;\n",
       "      cursor: pointer;\n",
       "      display: none;\n",
       "      fill: #1967D2;\n",
       "      height: 32px;\n",
       "      padding: 0 0 0 0;\n",
       "      width: 32px;\n",
       "    }\n",
       "\n",
       "    .colab-df-convert:hover {\n",
       "      background-color: #E2EBFA;\n",
       "      box-shadow: 0px 1px 2px rgba(60, 64, 67, 0.3), 0px 1px 3px 1px rgba(60, 64, 67, 0.15);\n",
       "      fill: #174EA6;\n",
       "    }\n",
       "\n",
       "    [theme=dark] .colab-df-convert {\n",
       "      background-color: #3B4455;\n",
       "      fill: #D2E3FC;\n",
       "    }\n",
       "\n",
       "    [theme=dark] .colab-df-convert:hover {\n",
       "      background-color: #434B5C;\n",
       "      box-shadow: 0px 1px 3px 1px rgba(0, 0, 0, 0.15);\n",
       "      filter: drop-shadow(0px 1px 2px rgba(0, 0, 0, 0.3));\n",
       "      fill: #FFFFFF;\n",
       "    }\n",
       "  </style>\n",
       "\n",
       "      <script>\n",
       "        const buttonEl =\n",
       "          document.querySelector('#df-dd3f4922-9b81-4445-9499-b42e20a6271a button.colab-df-convert');\n",
       "        buttonEl.style.display =\n",
       "          google.colab.kernel.accessAllowed ? 'block' : 'none';\n",
       "\n",
       "        async function convertToInteractive(key) {\n",
       "          const element = document.querySelector('#df-dd3f4922-9b81-4445-9499-b42e20a6271a');\n",
       "          const dataTable =\n",
       "            await google.colab.kernel.invokeFunction('convertToInteractive',\n",
       "                                                     [key], {});\n",
       "          if (!dataTable) return;\n",
       "\n",
       "          const docLinkHtml = 'Like what you see? Visit the ' +\n",
       "            '<a target=\"_blank\" href=https://colab.research.google.com/notebooks/data_table.ipynb>data table notebook</a>'\n",
       "            + ' to learn more about interactive tables.';\n",
       "          element.innerHTML = '';\n",
       "          dataTable['output_type'] = 'display_data';\n",
       "          await google.colab.output.renderOutput(dataTable, element);\n",
       "          const docLink = document.createElement('div');\n",
       "          docLink.innerHTML = docLinkHtml;\n",
       "          element.appendChild(docLink);\n",
       "        }\n",
       "      </script>\n",
       "    </div>\n",
       "  </div>\n",
       "  "
      ],
      "text/plain": [
       "                    Date  Number_of\n",
       "0  2016-06-27/2016-07-03          5\n",
       "1  2016-07-04/2016-07-10          8\n",
       "2  2016-07-11/2016-07-17          2\n",
       "3  2016-07-18/2016-07-24          2\n",
       "4  2016-07-25/2016-07-31          3"
      ]
     },
     "execution_count": 38,
     "metadata": {},
     "output_type": "execute_result"
    }
   ],
   "source": [
    "data = pd.read_csv('./data/data_all_before_feeding.csv', names=['Date', 'Number_of'], header=0)\n",
    "\n",
    "print(data.info())\n",
    "\n",
    "data.describe()"
   ]
  },
  {
   "cell_type": "code",
   "execution_count": 40,
   "id": "3a094c42",
   "metadata": {
    "id": "3a094c42"
   },
   "outputs": [],
   "source": [
    "data['Date'] = data['Date'].str.slice(0, 10)\n",
    "data['Date'] = pd.to_datetime(data['Date'], format=\"%Y-%m-%d\").dt.date\n",
    "data = data.set_index('Date')[['Number_of']].sort_index().asfreq('W-Mon')"
   ]
  },
  {
   "cell_type": "code",
   "execution_count": 41,
   "id": "340b612d",
   "metadata": {
    "colab": {
     "base_uri": "https://localhost:8080/",
     "height": 238
    },
    "id": "340b612d",
    "outputId": "94358684-5f1e-43e0-86cf-c12b87017a24"
   },
   "outputs": [
    {
     "data": {
      "text/html": [
       "\n",
       "  <div id=\"df-e59bb378-75bd-4a45-9893-7e9c84f301cc\">\n",
       "    <div class=\"colab-df-container\">\n",
       "      <div>\n",
       "<style scoped>\n",
       "    .dataframe tbody tr th:only-of-type {\n",
       "        vertical-align: middle;\n",
       "    }\n",
       "\n",
       "    .dataframe tbody tr th {\n",
       "        vertical-align: top;\n",
       "    }\n",
       "\n",
       "    .dataframe thead th {\n",
       "        text-align: right;\n",
       "    }\n",
       "</style>\n",
       "<table border=\"1\" class=\"dataframe\">\n",
       "  <thead>\n",
       "    <tr style=\"text-align: right;\">\n",
       "      <th></th>\n",
       "      <th>Number_of</th>\n",
       "    </tr>\n",
       "    <tr>\n",
       "      <th>Date</th>\n",
       "      <th></th>\n",
       "    </tr>\n",
       "  </thead>\n",
       "  <tbody>\n",
       "    <tr>\n",
       "      <th>2016-06-27</th>\n",
       "      <td>5</td>\n",
       "    </tr>\n",
       "    <tr>\n",
       "      <th>2016-07-04</th>\n",
       "      <td>8</td>\n",
       "    </tr>\n",
       "    <tr>\n",
       "      <th>2016-07-11</th>\n",
       "      <td>2</td>\n",
       "    </tr>\n",
       "    <tr>\n",
       "      <th>2016-07-18</th>\n",
       "      <td>2</td>\n",
       "    </tr>\n",
       "    <tr>\n",
       "      <th>2016-07-25</th>\n",
       "      <td>3</td>\n",
       "    </tr>\n",
       "  </tbody>\n",
       "</table>\n",
       "</div>\n",
       "      <button class=\"colab-df-convert\" onclick=\"convertToInteractive('df-e59bb378-75bd-4a45-9893-7e9c84f301cc')\"\n",
       "              title=\"Convert this dataframe to an interactive table.\"\n",
       "              style=\"display:none;\">\n",
       "        \n",
       "  <svg xmlns=\"http://www.w3.org/2000/svg\" height=\"24px\"viewBox=\"0 0 24 24\"\n",
       "       width=\"24px\">\n",
       "    <path d=\"M0 0h24v24H0V0z\" fill=\"none\"/>\n",
       "    <path d=\"M18.56 5.44l.94 2.06.94-2.06 2.06-.94-2.06-.94-.94-2.06-.94 2.06-2.06.94zm-11 1L8.5 8.5l.94-2.06 2.06-.94-2.06-.94L8.5 2.5l-.94 2.06-2.06.94zm10 10l.94 2.06.94-2.06 2.06-.94-2.06-.94-.94-2.06-.94 2.06-2.06.94z\"/><path d=\"M17.41 7.96l-1.37-1.37c-.4-.4-.92-.59-1.43-.59-.52 0-1.04.2-1.43.59L10.3 9.45l-7.72 7.72c-.78.78-.78 2.05 0 2.83L4 21.41c.39.39.9.59 1.41.59.51 0 1.02-.2 1.41-.59l7.78-7.78 2.81-2.81c.8-.78.8-2.07 0-2.86zM5.41 20L4 18.59l7.72-7.72 1.47 1.35L5.41 20z\"/>\n",
       "  </svg>\n",
       "      </button>\n",
       "      \n",
       "  <style>\n",
       "    .colab-df-container {\n",
       "      display:flex;\n",
       "      flex-wrap:wrap;\n",
       "      gap: 12px;\n",
       "    }\n",
       "\n",
       "    .colab-df-convert {\n",
       "      background-color: #E8F0FE;\n",
       "      border: none;\n",
       "      border-radius: 50%;\n",
       "      cursor: pointer;\n",
       "      display: none;\n",
       "      fill: #1967D2;\n",
       "      height: 32px;\n",
       "      padding: 0 0 0 0;\n",
       "      width: 32px;\n",
       "    }\n",
       "\n",
       "    .colab-df-convert:hover {\n",
       "      background-color: #E2EBFA;\n",
       "      box-shadow: 0px 1px 2px rgba(60, 64, 67, 0.3), 0px 1px 3px 1px rgba(60, 64, 67, 0.15);\n",
       "      fill: #174EA6;\n",
       "    }\n",
       "\n",
       "    [theme=dark] .colab-df-convert {\n",
       "      background-color: #3B4455;\n",
       "      fill: #D2E3FC;\n",
       "    }\n",
       "\n",
       "    [theme=dark] .colab-df-convert:hover {\n",
       "      background-color: #434B5C;\n",
       "      box-shadow: 0px 1px 3px 1px rgba(0, 0, 0, 0.15);\n",
       "      filter: drop-shadow(0px 1px 2px rgba(0, 0, 0, 0.3));\n",
       "      fill: #FFFFFF;\n",
       "    }\n",
       "  </style>\n",
       "\n",
       "      <script>\n",
       "        const buttonEl =\n",
       "          document.querySelector('#df-e59bb378-75bd-4a45-9893-7e9c84f301cc button.colab-df-convert');\n",
       "        buttonEl.style.display =\n",
       "          google.colab.kernel.accessAllowed ? 'block' : 'none';\n",
       "\n",
       "        async function convertToInteractive(key) {\n",
       "          const element = document.querySelector('#df-e59bb378-75bd-4a45-9893-7e9c84f301cc');\n",
       "          const dataTable =\n",
       "            await google.colab.kernel.invokeFunction('convertToInteractive',\n",
       "                                                     [key], {});\n",
       "          if (!dataTable) return;\n",
       "\n",
       "          const docLinkHtml = 'Like what you see? Visit the ' +\n",
       "            '<a target=\"_blank\" href=https://colab.research.google.com/notebooks/data_table.ipynb>data table notebook</a>'\n",
       "            + ' to learn more about interactive tables.';\n",
       "          element.innerHTML = '';\n",
       "          dataTable['output_type'] = 'display_data';\n",
       "          await google.colab.output.renderOutput(dataTable, element);\n",
       "          const docLink = document.createElement('div');\n",
       "          docLink.innerHTML = docLinkHtml;\n",
       "          element.appendChild(docLink);\n",
       "        }\n",
       "      </script>\n",
       "    </div>\n",
       "  </div>\n",
       "  "
      ],
      "text/plain": [
       "            Number_of\n",
       "Date                 \n",
       "2016-06-27          5\n",
       "2016-07-04          8\n",
       "2016-07-11          2\n",
       "2016-07-18          2\n",
       "2016-07-25          3"
      ]
     },
     "execution_count": 41,
     "metadata": {},
     "output_type": "execute_result"
    }
   ],
   "source": [
    "# data.loc[data['Number_of'] >58, 'Number_of'] = 58\n",
    "data.head()"
   ]
  },
  {
   "cell_type": "code",
   "execution_count": 42,
   "id": "af2d3568",
   "metadata": {
    "colab": {
     "base_uri": "https://localhost:8080/",
     "height": 296
    },
    "id": "af2d3568",
    "outputId": "8f69bc86-f81b-4ddc-e5d3-3bdac0da20fa"
   },
   "outputs": [
    {
     "data": {
      "text/plain": [
       "<AxesSubplot:xlabel='Date'>"
      ]
     },
     "execution_count": 42,
     "metadata": {},
     "output_type": "execute_result"
    },
    {
     "data": {
      "image/png": "[encoded data removed]",
      "text/plain": [
       "<Figure size 432x288 with 1 Axes>"
      ]
     },
     "metadata": {
      "needs_background": "light"
     },
     "output_type": "display_data"
    }
   ],
   "source": [
    "data['Number_of'].plot(c='cyan')"
   ]
  },
  {
   "cell_type": "code",
   "execution_count": 43,
   "id": "4237fdfb",
   "metadata": {
    "id": "4237fdfb"
   },
   "outputs": [],
   "source": [
    "# Using Dickey-Fuller test to determine if time series is stationary\n",
    "\n",
    "def dickey_fuller_test(timeseries):    \n",
    "    print('Results of Dickey-Fuller Test:')\n",
    "    dftest = adfuller(timeseries,maxlag=7*8, autolag='AIC')\n",
    "    dfoutput = pd.Series(dftest[0:4], index=['Test Statistic','p-value','#Lags Used','Number of Observations Used'])\n",
    "    \n",
    "    for key,value in dftest[4].items():\n",
    "        dfoutput['Critical Value (%s)'%key] = value\n",
    "    print (dfoutput)"
   ]
  },
  {
   "cell_type": "code",
   "execution_count": 44,
   "id": "574a9474",
   "metadata": {
    "colab": {
     "base_uri": "https://localhost:8080/"
    },
    "id": "574a9474",
    "outputId": "8bbb7664-1ea7-47af-e6f3-70017f99f07a"
   },
   "outputs": [
    {
     "name": "stdout",
     "output_type": "stream",
     "text": [
      "Results of Dickey-Fuller Test:\n",
      "Test Statistic                  -2.930123\n",
      "p-value                          0.041956\n",
      "#Lags Used                       6.000000\n",
      "Number of Observations Used    315.000000\n",
      "Critical Value (1%)             -3.451281\n",
      "Critical Value (5%)             -2.870760\n",
      "Critical Value (10%)            -2.571682\n",
      "dtype: float64\n"
     ]
    }
   ],
   "source": [
    "# Test original data\n",
    "dickey_fuller_test(data['Number_of'])"
   ]
  },
  {
   "cell_type": "code",
   "execution_count": 45,
   "id": "e3b65523",
   "metadata": {
    "id": "e3b65523"
   },
   "outputs": [],
   "source": [
    "# Accourding to data plot and also test results, our data is not stationary, \n",
    "# so for more accurate prediction I try to make the time series stationary by differencing method.\n",
    "# this way I get rid of the varying mean in time series."
   ]
  },
  {
   "cell_type": "code",
   "execution_count": 46,
   "id": "6df3e983",
   "metadata": {
    "colab": {
     "base_uri": "https://localhost:8080/",
     "height": 296
    },
    "id": "6df3e983",
    "outputId": "fecd613d-16e3-4bf0-c1ef-b6c36be9c43a"
   },
   "outputs": [
    {
     "data": {
      "text/plain": [
       "<AxesSubplot:xlabel='Date'>"
      ]
     },
     "execution_count": 46,
     "metadata": {},
     "output_type": "execute_result"
    },
    {
     "data": {
      "image/png": "[encoded data removed]",
      "text/plain": [
       "<Figure size 432x288 with 1 Axes>"
      ]
     },
     "metadata": {
      "needs_background": "light"
     },
     "output_type": "display_data"
    }
   ],
   "source": [
    "data_delta = data.copy()\n",
    "data_delta['delta_1'] = data['Number_of'].shift(1)\n",
    "data_delta.replace([np.inf, -np.inf], np.nan, inplace=True)\n",
    "data_delta.dropna(inplace=True)\n",
    "data_delta['Number_of'] = data['Number_of'] - data_delta['delta_1']\n",
    "data_delta.drop('delta_1', axis=1, inplace=True)\n",
    "data_delta['Number_of'].plot(c='purple')"
   ]
  },
  {
   "cell_type": "code",
   "execution_count": 47,
   "id": "533cdfa2",
   "metadata": {
    "colab": {
     "base_uri": "https://localhost:8080/"
    },
    "id": "533cdfa2",
    "outputId": "4fb5c1e1-0ca2-4f37-a838-5f283b51bdf9"
   },
   "outputs": [
    {
     "name": "stdout",
     "output_type": "stream",
     "text": [
      "Results of Dickey-Fuller Test:\n",
      "Test Statistic                -1.117893e+01\n",
      "p-value                        2.529412e-20\n",
      "#Lags Used                     5.000000e+00\n",
      "Number of Observations Used    3.150000e+02\n",
      "Critical Value (1%)           -3.451281e+00\n",
      "Critical Value (5%)           -2.870760e+00\n",
      "Critical Value (10%)          -2.571682e+00\n",
      "dtype: float64\n"
     ]
    }
   ],
   "source": [
    "# Test original data\n",
    "dickey_fuller_test(data_delta['Number_of'])"
   ]
  },
  {
   "cell_type": "code",
   "execution_count": 48,
   "id": "30cda2ba",
   "metadata": {
    "id": "30cda2ba"
   },
   "outputs": [],
   "source": [
    "# As plot and test results show differencing method makes the time series stationary"
   ]
  },
  {
   "cell_type": "code",
   "execution_count": 49,
   "id": "bf4ea2e9",
   "metadata": {
    "colab": {
     "base_uri": "https://localhost:8080/",
     "height": 238
    },
    "id": "bf4ea2e9",
    "outputId": "424696f1-ef3c-43a3-ecae-2ffb4b9a85dd"
   },
   "outputs": [
    {
     "data": {
      "text/html": [
       "\n",
       "  <div id=\"df-b85793bd-fce9-4732-9f48-eeed8ad7f0fb\">\n",
       "    <div class=\"colab-df-container\">\n",
       "      <div>\n",
       "<style scoped>\n",
       "    .dataframe tbody tr th:only-of-type {\n",
       "        vertical-align: middle;\n",
       "    }\n",
       "\n",
       "    .dataframe tbody tr th {\n",
       "        vertical-align: top;\n",
       "    }\n",
       "\n",
       "    .dataframe thead th {\n",
       "        text-align: right;\n",
       "    }\n",
       "</style>\n",
       "<table border=\"1\" class=\"dataframe\">\n",
       "  <thead>\n",
       "    <tr style=\"text-align: right;\">\n",
       "      <th></th>\n",
       "      <th>Number_of</th>\n",
       "      <th>d_1</th>\n",
       "      <th>d_2</th>\n",
       "      <th>d_3</th>\n",
       "      <th>d_4</th>\n",
       "      <th>d_5</th>\n",
       "      <th>d_6</th>\n",
       "      <th>d_7</th>\n",
       "      <th>d_8</th>\n",
       "      <th>d_9</th>\n",
       "      <th>d_10</th>\n",
       "      <th>d_11</th>\n",
       "      <th>d_12</th>\n",
       "    </tr>\n",
       "    <tr>\n",
       "      <th>Date</th>\n",
       "      <th></th>\n",
       "      <th></th>\n",
       "      <th></th>\n",
       "      <th></th>\n",
       "      <th></th>\n",
       "      <th></th>\n",
       "      <th></th>\n",
       "      <th></th>\n",
       "      <th></th>\n",
       "      <th></th>\n",
       "      <th></th>\n",
       "      <th></th>\n",
       "      <th></th>\n",
       "    </tr>\n",
       "  </thead>\n",
       "  <tbody>\n",
       "    <tr>\n",
       "      <th>2016-09-26</th>\n",
       "      <td>-3.0</td>\n",
       "      <td>0.0</td>\n",
       "      <td>4.0</td>\n",
       "      <td>-1.0</td>\n",
       "      <td>-1.0</td>\n",
       "      <td>3.0</td>\n",
       "      <td>-4.0</td>\n",
       "      <td>2.0</td>\n",
       "      <td>-1.0</td>\n",
       "      <td>1.0</td>\n",
       "      <td>0.0</td>\n",
       "      <td>-6.0</td>\n",
       "      <td>3.0</td>\n",
       "    </tr>\n",
       "    <tr>\n",
       "      <th>2016-10-03</th>\n",
       "      <td>1.0</td>\n",
       "      <td>-3.0</td>\n",
       "      <td>0.0</td>\n",
       "      <td>4.0</td>\n",
       "      <td>-1.0</td>\n",
       "      <td>-1.0</td>\n",
       "      <td>3.0</td>\n",
       "      <td>-4.0</td>\n",
       "      <td>2.0</td>\n",
       "      <td>-1.0</td>\n",
       "      <td>1.0</td>\n",
       "      <td>0.0</td>\n",
       "      <td>-6.0</td>\n",
       "    </tr>\n",
       "    <tr>\n",
       "      <th>2016-10-10</th>\n",
       "      <td>-3.0</td>\n",
       "      <td>1.0</td>\n",
       "      <td>-3.0</td>\n",
       "      <td>0.0</td>\n",
       "      <td>4.0</td>\n",
       "      <td>-1.0</td>\n",
       "      <td>-1.0</td>\n",
       "      <td>3.0</td>\n",
       "      <td>-4.0</td>\n",
       "      <td>2.0</td>\n",
       "      <td>-1.0</td>\n",
       "      <td>1.0</td>\n",
       "      <td>0.0</td>\n",
       "    </tr>\n",
       "    <tr>\n",
       "      <th>2016-10-17</th>\n",
       "      <td>4.0</td>\n",
       "      <td>-3.0</td>\n",
       "      <td>1.0</td>\n",
       "      <td>-3.0</td>\n",
       "      <td>0.0</td>\n",
       "      <td>4.0</td>\n",
       "      <td>-1.0</td>\n",
       "      <td>-1.0</td>\n",
       "      <td>3.0</td>\n",
       "      <td>-4.0</td>\n",
       "      <td>2.0</td>\n",
       "      <td>-1.0</td>\n",
       "      <td>1.0</td>\n",
       "    </tr>\n",
       "    <tr>\n",
       "      <th>2016-10-24</th>\n",
       "      <td>0.0</td>\n",
       "      <td>4.0</td>\n",
       "      <td>-3.0</td>\n",
       "      <td>1.0</td>\n",
       "      <td>-3.0</td>\n",
       "      <td>0.0</td>\n",
       "      <td>4.0</td>\n",
       "      <td>-1.0</td>\n",
       "      <td>-1.0</td>\n",
       "      <td>3.0</td>\n",
       "      <td>-4.0</td>\n",
       "      <td>2.0</td>\n",
       "      <td>-1.0</td>\n",
       "    </tr>\n",
       "  </tbody>\n",
       "</table>\n",
       "</div>\n",
       "      <button class=\"colab-df-convert\" onclick=\"convertToInteractive('df-b85793bd-fce9-4732-9f48-eeed8ad7f0fb')\"\n",
       "              title=\"Convert this dataframe to an interactive table.\"\n",
       "              style=\"display:none;\">\n",
       "        \n",
       "  <svg xmlns=\"http://www.w3.org/2000/svg\" height=\"24px\"viewBox=\"0 0 24 24\"\n",
       "       width=\"24px\">\n",
       "    <path d=\"M0 0h24v24H0V0z\" fill=\"none\"/>\n",
       "    <path d=\"M18.56 5.44l.94 2.06.94-2.06 2.06-.94-2.06-.94-.94-2.06-.94 2.06-2.06.94zm-11 1L8.5 8.5l.94-2.06 2.06-.94-2.06-.94L8.5 2.5l-.94 2.06-2.06.94zm10 10l.94 2.06.94-2.06 2.06-.94-2.06-.94-.94-2.06-.94 2.06-2.06.94z\"/><path d=\"M17.41 7.96l-1.37-1.37c-.4-.4-.92-.59-1.43-.59-.52 0-1.04.2-1.43.59L10.3 9.45l-7.72 7.72c-.78.78-.78 2.05 0 2.83L4 21.41c.39.39.9.59 1.41.59.51 0 1.02-.2 1.41-.59l7.78-7.78 2.81-2.81c.8-.78.8-2.07 0-2.86zM5.41 20L4 18.59l7.72-7.72 1.47 1.35L5.41 20z\"/>\n",
       "  </svg>\n",
       "      </button>\n",
       "      \n",
       "  <style>\n",
       "    .colab-df-container {\n",
       "      display:flex;\n",
       "      flex-wrap:wrap;\n",
       "      gap: 12px;\n",
       "    }\n",
       "\n",
       "    .colab-df-convert {\n",
       "      background-color: #E8F0FE;\n",
       "      border: none;\n",
       "      border-radius: 50%;\n",
       "      cursor: pointer;\n",
       "      display: none;\n",
       "      fill: #1967D2;\n",
       "      height: 32px;\n",
       "      padding: 0 0 0 0;\n",
       "      width: 32px;\n",
       "    }\n",
       "\n",
       "    .colab-df-convert:hover {\n",
       "      background-color: #E2EBFA;\n",
       "      box-shadow: 0px 1px 2px rgba(60, 64, 67, 0.3), 0px 1px 3px 1px rgba(60, 64, 67, 0.15);\n",
       "      fill: #174EA6;\n",
       "    }\n",
       "\n",
       "    [theme=dark] .colab-df-convert {\n",
       "      background-color: #3B4455;\n",
       "      fill: #D2E3FC;\n",
       "    }\n",
       "\n",
       "    [theme=dark] .colab-df-convert:hover {\n",
       "      background-color: #434B5C;\n",
       "      box-shadow: 0px 1px 3px 1px rgba(0, 0, 0, 0.15);\n",
       "      filter: drop-shadow(0px 1px 2px rgba(0, 0, 0, 0.3));\n",
       "      fill: #FFFFFF;\n",
       "    }\n",
       "  </style>\n",
       "\n",
       "      <script>\n",
       "        const buttonEl =\n",
       "          document.querySelector('#df-b85793bd-fce9-4732-9f48-eeed8ad7f0fb button.colab-df-convert');\n",
       "        buttonEl.style.display =\n",
       "          google.colab.kernel.accessAllowed ? 'block' : 'none';\n",
       "\n",
       "        async function convertToInteractive(key) {\n",
       "          const element = document.querySelector('#df-b85793bd-fce9-4732-9f48-eeed8ad7f0fb');\n",
       "          const dataTable =\n",
       "            await google.colab.kernel.invokeFunction('convertToInteractive',\n",
       "                                                     [key], {});\n",
       "          if (!dataTable) return;\n",
       "\n",
       "          const docLinkHtml = 'Like what you see? Visit the ' +\n",
       "            '<a target=\"_blank\" href=https://colab.research.google.com/notebooks/data_table.ipynb>data table notebook</a>'\n",
       "            + ' to learn more about interactive tables.';\n",
       "          element.innerHTML = '';\n",
       "          dataTable['output_type'] = 'display_data';\n",
       "          await google.colab.output.renderOutput(dataTable, element);\n",
       "          const docLink = document.createElement('div');\n",
       "          docLink.innerHTML = docLinkHtml;\n",
       "          element.appendChild(docLink);\n",
       "        }\n",
       "      </script>\n",
       "    </div>\n",
       "  </div>\n",
       "  "
      ],
      "text/plain": [
       "            Number_of  d_1  d_2  d_3  d_4  d_5  d_6  d_7  d_8  d_9  d_10  \\\n",
       "Date                                                                       \n",
       "2016-09-26       -3.0  0.0  4.0 -1.0 -1.0  3.0 -4.0  2.0 -1.0  1.0   0.0   \n",
       "2016-10-03        1.0 -3.0  0.0  4.0 -1.0 -1.0  3.0 -4.0  2.0 -1.0   1.0   \n",
       "2016-10-10       -3.0  1.0 -3.0  0.0  4.0 -1.0 -1.0  3.0 -4.0  2.0  -1.0   \n",
       "2016-10-17        4.0 -3.0  1.0 -3.0  0.0  4.0 -1.0 -1.0  3.0 -4.0   2.0   \n",
       "2016-10-24        0.0  4.0 -3.0  1.0 -3.0  0.0  4.0 -1.0 -1.0  3.0  -4.0   \n",
       "\n",
       "            d_11  d_12  \n",
       "Date                    \n",
       "2016-09-26  -6.0   3.0  \n",
       "2016-10-03   0.0  -6.0  \n",
       "2016-10-10   1.0   0.0  \n",
       "2016-10-17  -1.0   1.0  \n",
       "2016-10-24   2.0  -1.0  "
      ]
     },
     "execution_count": 49,
     "metadata": {},
     "output_type": "execute_result"
    }
   ],
   "source": [
    "# I try to create more data and make dataset supervised \n",
    "# By adding time lags I define how many past weeks data must used to predict next week sales\n",
    "\n",
    "historical_data_count_for_prediction = 12\n",
    "str_name = ''\n",
    "for i in range(1, historical_data_count_for_prediction+1):\n",
    "    field_name = 'd_' + str(i)\n",
    "    str_name += field_name + '+'\n",
    "    \n",
    "    data_delta[field_name] = data_delta['Number_of'].shift(i)\n",
    "\n",
    "data_delta = data_delta.dropna()\n",
    "data_delta.head()"
   ]
  },
  {
   "cell_type": "code",
   "execution_count": 50,
   "id": "663812eb",
   "metadata": {
    "colab": {
     "base_uri": "https://localhost:8080/"
    },
    "id": "663812eb",
    "outputId": "d8f9a0e9-c7e5-40d0-8c95-b950595ee58a"
   },
   "outputs": [
    {
     "name": "stdout",
     "output_type": "stream",
     "text": [
      "0.31725887533350916\n"
     ]
    }
   ],
   "source": [
    "# Define the regression formula, I use it to have some sense how new data feature\n",
    "model = smf.ols(formula='Number_of ~ ' + str_name[:-1], data=data_delta)\n",
    "# Fit the regression\n",
    "model_fit = model.fit()\n",
    "# Extract the adjusted r-squared\n",
    "regression_adj_rsq = model_fit.rsquared_adj\n",
    "print(regression_adj_rsq)"
   ]
  },
  {
   "cell_type": "code",
   "execution_count": 51,
   "id": "f2233e4a",
   "metadata": {
    "id": "f2233e4a"
   },
   "outputs": [],
   "source": [
    "# Splitting data to train set and test set,\n",
    "# defining last n weeks sales info as test data\n",
    "\n",
    "test_data_size = 24 # last six month of data, 24 weeks\n",
    "val_data_size = 24\n",
    "train_data, val_data, test_data = data_delta[0:-(val_data_size+test_data_size)].values, data_delta[-(val_data_size+test_data_size):-(test_data_size)].values, data_delta[-(test_data_size):].values"
   ]
  },
  {
   "cell_type": "code",
   "execution_count": 52,
   "id": "587f86a0",
   "metadata": {
    "colab": {
     "base_uri": "https://localhost:8080/"
    },
    "id": "587f86a0",
    "outputId": "3c764c48-db60-4abf-bbe7-6f4ea16d4a38"
   },
   "outputs": [
    {
     "data": {
      "text/plain": [
       "DatetimeIndex(['2022-03-14', '2022-03-21', '2022-03-28', '2022-04-04',\n",
       "               '2022-04-11', '2022-04-18', '2022-04-25', '2022-05-02',\n",
       "               '2022-05-09', '2022-05-16', '2022-05-23', '2022-05-30',\n",
       "               '2022-06-06', '2022-06-13', '2022-06-20', '2022-06-27',\n",
       "               '2022-07-04', '2022-07-11', '2022-07-18', '2022-07-25',\n",
       "               '2022-08-01', '2022-08-08', '2022-08-15', '2022-08-22'],\n",
       "              dtype='datetime64[ns]', name='Date', freq='W-MON')"
      ]
     },
     "execution_count": 52,
     "metadata": {},
     "output_type": "execute_result"
    }
   ],
   "source": [
    "data_delta[-(test_data_size):].index"
   ]
  },
  {
   "cell_type": "code",
   "execution_count": 53,
   "id": "89d71ab9",
   "metadata": {
    "id": "89d71ab9"
   },
   "outputs": [],
   "source": [
    "# Scaling data using MinMaxScaler to make better prediction\n",
    "\n",
    "scaler = MinMaxScaler(feature_range=(-1, 1))\n",
    "scaler = scaler.fit(train_data)\n",
    "\n",
    "train_data = train_data.reshape(train_data.shape[0], train_data.shape[1])\n",
    "train_data_scaled = scaler.transform(train_data)\n",
    "\n",
    "val_data = val_data.reshape(val_data.shape[0], val_data.shape[1])\n",
    "val_data_scaled = scaler.transform(val_data)\n",
    "\n",
    "test_data = test_data.reshape(test_data.shape[0], test_data.shape[1])\n",
    "test_data_scaled = scaler.transform(test_data)"
   ]
  },
  {
   "cell_type": "code",
   "execution_count": 54,
   "id": "3a7e40a3",
   "metadata": {
    "id": "3a7e40a3"
   },
   "outputs": [],
   "source": [
    "# Making supervised data for feeding to LSTM network\n",
    "\n",
    "X_train, y_train = train_data_scaled[:, 1:], train_data_scaled[:, 0:1]\n",
    "X_train = X_train.reshape(X_train.shape[0], 1, X_train.shape[1])\n",
    "\n",
    "X_val, y_val = val_data_scaled[:, 1:], val_data_scaled[:, 0:1]\n",
    "X_val = X_val.reshape(X_val.shape[0], 1, X_val.shape[1])\n",
    "\n",
    "X_test, y_test = test_data_scaled[:, 1:], test_data_scaled[:, 0:1]\n",
    "X_test = X_test.reshape(X_test.shape[0], 1, X_test.shape[1])"
   ]
  },
  {
   "cell_type": "code",
   "execution_count": 55,
   "id": "04c7dc9f",
   "metadata": {
    "colab": {
     "base_uri": "https://localhost:8080/"
    },
    "id": "04c7dc9f",
    "outputId": "d6600ef6-a638-4daf-ad1a-7551699e6e5c",
    "scrolled": true
   },
   "outputs": [
    {
     "name": "stdout",
     "output_type": "stream",
     "text": [
      "Model: \"sequential_1\"\n",
      "_________________________________________________________________\n",
      " Layer (type)                Output Shape              Param #   \n",
      "=================================================================\n",
      " lstm_1 (LSTM)               (1, 4)                    272       \n",
      "                                                                 \n",
      " dropout_1 (Dropout)         (1, 4)                    0         \n",
      "                                                                 \n",
      " dense_1 (Dense)             (1, 1)                    5         \n",
      "                                                                 \n",
      "=================================================================\n",
      "Total params: 277\n",
      "Trainable params: 277\n",
      "Non-trainable params: 0\n",
      "_________________________________________________________________\n"
     ]
    }
   ],
   "source": [
    "# Building a very simple LSTM network\n",
    "\n",
    "model = Sequential()\n",
    "# model.add(Dropout(0.5))\n",
    "model.add(LSTM(4, batch_input_shape=(1, X_train.shape[1], X_train.shape[2])))#, stateful=True))#, return_sequences=True))\n",
    "model.add(Dropout(0.5))#, input_shape=(60,)))\n",
    "# model.add(LSTM(4, ))\n",
    "model.add(Dense(1, activation='relu'))\n",
    "model.summary()"
   ]
  },
  {
   "cell_type": "code",
   "execution_count": 56,
   "id": "48dd99b6",
   "metadata": {
    "colab": {
     "base_uri": "https://localhost:8080/"
    },
    "id": "48dd99b6",
    "outputId": "a15ab76b-67bc-45e7-b450-4961a33c004c"
   },
   "outputs": [
    {
     "name": "stdout",
     "output_type": "stream",
     "text": [
      "Epoch 1/300\n",
      "261/261 [==============================] - 3s 8ms/step - loss: 0.0333 - val_loss: 0.0482 - lr: 0.0010\n",
      "Epoch 2/300\n",
      "261/261 [==============================] - 1s 3ms/step - loss: 0.0298 - val_loss: 0.0471 - lr: 0.0010\n",
      "Epoch 3/300\n",
      "261/261 [==============================] - 1s 3ms/step - loss: 0.0310 - val_loss: 0.0463 - lr: 0.0010\n",
      "Epoch 4/300\n",
      "261/261 [==============================] - 1s 4ms/step - loss: 0.0292 - val_loss: 0.0457 - lr: 0.0010\n",
      "Epoch 5/300\n",
      "261/261 [==============================] - 1s 3ms/step - loss: 0.0285 - val_loss: 0.0455 - lr: 0.0010\n",
      "Epoch 6/300\n",
      "261/261 [==============================] - 1s 3ms/step - loss: 0.0274 - val_loss: 0.0454 - lr: 0.0010\n",
      "Epoch 7/300\n",
      "261/261 [==============================] - 1s 3ms/step - loss: 0.0270 - val_loss: 0.0452 - lr: 0.0010\n",
      "Epoch 8/300\n",
      "261/261 [==============================] - 1s 3ms/step - loss: 0.0268 - val_loss: 0.0451 - lr: 0.0010\n",
      "Epoch 9/300\n",
      "261/261 [==============================] - 1s 3ms/step - loss: 0.0287 - val_loss: 0.0449 - lr: 0.0010\n",
      "Epoch 10/300\n",
      "261/261 [==============================] - 1s 3ms/step - loss: 0.0268 - val_loss: 0.0448 - lr: 0.0010\n",
      "Epoch 11/300\n",
      "261/261 [==============================] - 1s 5ms/step - loss: 0.0277 - val_loss: 0.0448 - lr: 0.0010\n",
      "Epoch 12/300\n",
      "261/261 [==============================] - 2s 8ms/step - loss: 0.0252 - val_loss: 0.0452 - lr: 0.0010\n",
      "Epoch 13/300\n",
      "261/261 [==============================] - 2s 7ms/step - loss: 0.0264 - val_loss: 0.0453 - lr: 0.0010\n",
      "Epoch 14/300\n",
      "261/261 [==============================] - 2s 7ms/step - loss: 0.0254 - val_loss: 0.0451 - lr: 0.0010\n",
      "Epoch 15/300\n",
      "261/261 [==============================] - 1s 6ms/step - loss: 0.0256 - val_loss: 0.0452 - lr: 0.0010\n",
      "Epoch 16/300\n",
      "261/261 [==============================] - 2s 6ms/step - loss: 0.0253 - val_loss: 0.0454 - lr: 0.0010\n",
      "Epoch 17/300\n",
      "261/261 [==============================] - 1s 6ms/step - loss: 0.0269 - val_loss: 0.0451 - lr: 0.0010\n",
      "Epoch 18/300\n",
      "261/261 [==============================] - 2s 6ms/step - loss: 0.0265 - val_loss: 0.0446 - lr: 0.0010\n",
      "Epoch 19/300\n",
      "261/261 [==============================] - 2s 9ms/step - loss: 0.0241 - val_loss: 0.0442 - lr: 0.0010\n",
      "Epoch 20/300\n",
      "261/261 [==============================] - 3s 10ms/step - loss: 0.0240 - val_loss: 0.0443 - lr: 0.0010\n",
      "Epoch 21/300\n",
      "261/261 [==============================] - 2s 9ms/step - loss: 0.0263 - val_loss: 0.0443 - lr: 0.0010\n",
      "Epoch 22/300\n",
      "261/261 [==============================] - 2s 6ms/step - loss: 0.0240 - val_loss: 0.0440 - lr: 0.0010\n",
      "Epoch 23/300\n",
      "261/261 [==============================] - 1s 6ms/step - loss: 0.0241 - val_loss: 0.0436 - lr: 0.0010\n",
      "Epoch 24/300\n",
      "261/261 [==============================] - 2s 6ms/step - loss: 0.0236 - val_loss: 0.0439 - lr: 0.0010\n",
      "Epoch 25/300\n",
      "261/261 [==============================] - 2s 6ms/step - loss: 0.0229 - val_loss: 0.0435 - lr: 0.0010\n",
      "Epoch 26/300\n",
      "261/261 [==============================] - 1s 5ms/step - loss: 0.0244 - val_loss: 0.0433 - lr: 0.0010\n",
      "Epoch 27/300\n",
      "261/261 [==============================] - 1s 3ms/step - loss: 0.0252 - val_loss: 0.0430 - lr: 0.0010\n",
      "Epoch 28/300\n",
      "261/261 [==============================] - 1s 5ms/step - loss: 0.0238 - val_loss: 0.0432 - lr: 0.0010\n",
      "Epoch 29/300\n",
      "261/261 [==============================] - 1s 4ms/step - loss: 0.0247 - val_loss: 0.0431 - lr: 0.0010\n",
      "Epoch 30/300\n",
      "261/261 [==============================] - 1s 3ms/step - loss: 0.0236 - val_loss: 0.0433 - lr: 0.0010\n",
      "Epoch 31/300\n",
      "261/261 [==============================] - 1s 3ms/step - loss: 0.0232 - val_loss: 0.0435 - lr: 0.0010\n",
      "Epoch 32/300\n",
      "261/261 [==============================] - 1s 3ms/step - loss: 0.0227 - val_loss: 0.0435 - lr: 0.0010\n",
      "Epoch 33/300\n",
      "261/261 [==============================] - 1s 3ms/step - loss: 0.0268 - val_loss: 0.0431 - lr: 0.0010\n",
      "Epoch 34/300\n",
      "261/261 [==============================] - 1s 3ms/step - loss: 0.0229 - val_loss: 0.0432 - lr: 0.0010\n",
      "Epoch 35/300\n",
      "261/261 [==============================] - 1s 3ms/step - loss: 0.0243 - val_loss: 0.0430 - lr: 0.0010\n",
      "Epoch 36/300\n",
      "261/261 [==============================] - 1s 3ms/step - loss: 0.0245 - val_loss: 0.0430 - lr: 0.0010\n",
      "Epoch 37/300\n",
      "259/261 [============================>.] - ETA: 0s - loss: 0.0230\n",
      "Epoch 37: ReduceLROnPlateau reducing learning rate to 0.0007937005636828516.\n",
      "261/261 [==============================] - 1s 3ms/step - loss: 0.0229 - val_loss: 0.0431 - lr: 0.0010\n"
     ]
    }
   ],
   "source": [
    "#Training the network\n",
    "import tensorflow as tf\n",
    "from keras.callbacks import ModelCheckpoint, ReduceLROnPlateau, EarlyStopping\n",
    "factor = 1. / np.cbrt(2)\n",
    "\n",
    "model_checkpoint = ModelCheckpoint(\"/content/drive/MyDrive/quant-risk/Saved Models/\", verbose=1, monitor='val_loss', save_best_only=True, save_weights_only=False)\n",
    "reduce_lr = ReduceLROnPlateau(monitor='val_loss', patience=10, mode='auto', factor=factor, cooldown=0, min_lr=1e-10, verbose=2)\n",
    "es = EarlyStopping(monitor='val_loss', patience=10)\n",
    "callback_list = [reduce_lr, es]#[model_checkpoint, reduce_lr, es]\n",
    "\n",
    "optimizer = keras.optimizers.Adam(lr = 0.001)\n",
    "# optimizer = tf.keras.optimizers.RMSprop(learning_rate = 0.001)\n",
    "model.compile(loss='mean_squared_error', \n",
    "              optimizer=optimizer)\n",
    "\n",
    "history = model.fit(X_train, \n",
    "                    y_train, \n",
    "                    validation_data = (X_val, y_val),\n",
    "                    epochs=300, \n",
    "                    batch_size=1, \n",
    "                    verbose=1, \n",
    "                    callbacks=callback_list,\n",
    "                    shuffle=False)"
   ]
  },
  {
   "cell_type": "code",
   "execution_count": 57,
   "id": "419cc997",
   "metadata": {
    "colab": {
     "base_uri": "https://localhost:8080/",
     "height": 295
    },
    "id": "419cc997",
    "outputId": "66b42ba9-2597-4bc0-b877-1cc8bf5b33f5"
   },
   "outputs": [
    {
     "data": {
      "image/png": "[encoded data removed]",
      "text/plain": [
       "<Figure size 432x288 with 1 Axes>"
      ]
     },
     "metadata": {
      "needs_background": "light"
     },
     "output_type": "display_data"
    }
   ],
   "source": [
    "# summarize history for loss\n",
    "plt.plot(history.history['loss'])\n",
    "plt.plot(history.history['val_loss'])\n",
    "plt.title('model loss')\n",
    "plt.ylabel('loss')\n",
    "plt.xlabel('epoch')\n",
    "plt.legend(['train', 'val'], loc='upper right')\n",
    "plt.show()"
   ]
  },
  {
   "cell_type": "code",
   "execution_count": 58,
   "id": "b6a286b7",
   "metadata": {
    "colab": {
     "base_uri": "https://localhost:8080/"
    },
    "id": "b6a286b7",
    "outputId": "4eec77b4-2a2a-44c7-d933-2f694c8f0a10"
   },
   "outputs": [
    {
     "name": "stdout",
     "output_type": "stream",
     "text": [
      "24/24 [==============================] - 0s 2ms/step\n"
     ]
    }
   ],
   "source": [
    "# Making prediction using the trained model and scale data back\n",
    "\n",
    "y_pred = model.predict(X_test, batch_size=1)\n",
    "y_pred = y_pred.reshape(y_pred.shape[0], 1, y_pred.shape[1])\n",
    "\n",
    "pred_test_data = []\n",
    "for index in range(0,len(y_pred)):\n",
    "    pred_test_data.append(np.concatenate([y_pred[index], X_test[index]], axis=1))\n",
    "    \n",
    "pred_test_data = np.array(pred_test_data)\n",
    "pred_test_data = pred_test_data.reshape(pred_test_data.shape[0], pred_test_data.shape[2])\n",
    "\n",
    "pred_test_data_inverted = scaler.inverse_transform(pred_test_data)"
   ]
  },
  {
   "cell_type": "code",
   "execution_count": 59,
   "id": "68625728",
   "metadata": {
    "id": "68625728"
   },
   "outputs": [],
   "source": [
    "# Create dataframe that shows the predicted sales\n",
    "result_list = []\n",
    "sales_dates = list(data[-(test_data_size+2):].index)\n",
    "actual_sales = list(data[-(test_data_size+2):].Number_of)\n",
    "\n",
    "for index in range(0,len(pred_test_data_inverted)):\n",
    "    result_dict = {}\n",
    "    result_dict['pred_value'] = int(pred_test_data_inverted[index][0] + actual_sales[index])\n",
    "    result_dict['Date'] = sales_dates[index+1]\n",
    "    result_list.append(result_dict)\n",
    "    \n",
    "df_result = pd.DataFrame(result_list)\n"
   ]
  },
  {
   "cell_type": "code",
   "execution_count": 60,
   "id": "e1b815ed",
   "metadata": {
    "colab": {
     "base_uri": "https://localhost:8080/",
     "height": 530
    },
    "id": "e1b815ed",
    "outputId": "39c7e1f5-e82a-47d5-d78a-0627aa3b9280"
   },
   "outputs": [
    {
     "name": "stdout",
     "output_type": "stream",
     "text": [
      "Root mean squared error: 16.82\n"
     ]
    },
    {
     "data": {
      "image/png": "[encoded data removed]",
      "text/plain": [
       "<Figure size 432x288 with 1 Axes>"
      ]
     },
     "metadata": {
      "needs_background": "light"
     },
     "output_type": "display_data"
    },
    {
     "data": {
      "image/png": "[encoded data removed]",
      "text/plain": [
       "<Figure size 432x288 with 1 Axes>"
      ]
     },
     "metadata": {
      "needs_background": "light"
     },
     "output_type": "display_data"
    }
   ],
   "source": [
    "#merge with actual sales dataframe\n",
    "#plot actual and predicted\n",
    "\n",
    "data_pred = pd.merge(data, df_result, on='Date', how='left')\n",
    "\n",
    "test = data_pred[data_pred['pred_value'].isna()==False]\n",
    "err = 'Root mean squared error: %.2f'% sqrt(MSE(test[['Date','Number_of']]['Number_of'], test[['Date','pred_value']]['pred_value']))\n",
    "\n",
    "print(err)\n",
    "\n",
    "fig, ax = plt.subplots()\n",
    "ax.scatter(\n",
    "    x=data_pred['Date'],\n",
    "    y=data_pred['Number_of'],\n",
    "    c='magenta'\n",
    ")\n",
    "ax.scatter(\n",
    "    x=data_pred['Date'],\n",
    "    y=data_pred['pred_value'],\n",
    "    c='g'\n",
    "    )\n",
    "    \n",
    "ax.legend(['Actual', 'Predicted (Test Data)'])\n",
    "ax.grid(True)\n",
    "\n",
    "fig, ax = plt.subplots()\n",
    "ax.plot(data_pred['Number_of'], c='magenta')\n",
    "ax.plot(data_pred['pred_value'], c='g')\n",
    "ax.legend(['Actual', 'Predicted (Test Data)'])\n",
    "ax.grid(True)"
   ]
  },
  {
   "cell_type": "code",
   "execution_count": 61,
   "id": "626597f7",
   "metadata": {
    "colab": {
     "base_uri": "https://localhost:8080/"
    },
    "id": "626597f7",
    "outputId": "76fb1e22-8f99-4142-eebc-5a50af751c34"
   },
   "outputs": [
    {
     "name": "stdout",
     "output_type": "stream",
     "text": [
      "1/1 [==============================] - 0s 21ms/step\n",
      "1/1 [==============================] - 0s 20ms/step\n",
      "1/1 [==============================] - 0s 21ms/step\n",
      "1/1 [==============================] - 0s 21ms/step\n"
     ]
    }
   ],
   "source": [
    "week_index = pd.to_datetime('2022-08-28').date().strftime(format='%Y-%m-%d')\n",
    "week_list = [week_index]\n",
    "\n",
    "month_count_to_multistep_prediction = 1\n",
    "for i in range(month_count_to_multistep_prediction * 4):\n",
    "    week_index = pd.to_datetime(week_index) + timedelta(days=7)\n",
    "    week_index = week_index.date().strftime(format='%Y-%m-%d')\n",
    "    week_list.append(week_index)\n",
    "\n",
    "temp = pd.DataFrame({'Date': week_list, 'Number_of': [None] * ((month_count_to_multistep_prediction * 4)+1)})\n",
    "temp = temp.set_index('Date')[['Number_of']].sort_index().asfreq('W-Mon')\n",
    "\n",
    "weekly_sales_prediction = data_delta[['Number_of']].tail(historical_data_count_for_prediction).copy()\n",
    "weekly_sales_prediction = weekly_sales_prediction.append(temp)\n",
    "\n",
    "str_name = ''\n",
    "for i in range(1, historical_data_count_for_prediction+1):\n",
    "    field_name = 'd_' + str(i)\n",
    "    str_name += field_name + '+'\n",
    "    \n",
    "    weekly_sales_prediction[field_name] = weekly_sales_prediction['Number_of'].shift(i)\n",
    "\n",
    "weekly_sales_prediction = weekly_sales_prediction['2022-08-29':]\n",
    "week_list = weekly_sales_prediction.index.to_list()\n",
    "\n",
    "for i in range(len(weekly_sales_prediction)):\n",
    "    temp = weekly_sales_prediction.loc[week_list[i]].values.reshape(1,-1)\n",
    "    temp_scaled = scaler.transform(temp)\n",
    "    temp_scaled = np.squeeze(temp_scaled)[1:].reshape(1, 1, historical_data_count_for_prediction)\n",
    "\n",
    "    next_pred = model.predict(temp_scaled, batch_size=1)\n",
    "    temp = temp_scaled.reshape(1, historical_data_count_for_prediction)\n",
    "    temp = np.insert(temp, 0, next_pred).reshape(1, historical_data_count_for_prediction+1)\n",
    "    next_pred_inverted = scaler.inverse_transform(temp)\n",
    "    weekly_sales_prediction.loc[week_list[i]]['Number_of'] = next_pred_inverted[0][0]\n",
    "    \n",
    "    c = 1\n",
    "    for j in range(i+1, len(weekly_sales_prediction)):\n",
    "        if j < len(weekly_sales_prediction):            \n",
    "            weekly_sales_prediction.loc[week_list[j]]['d_' + str(c)] = next_pred_inverted[0][0]\n",
    "            c += 1            "
   ]
  },
  {
   "cell_type": "code",
   "execution_count": 62,
   "id": "9fdc0e37",
   "metadata": {
    "id": "9fdc0e37"
   },
   "outputs": [],
   "source": [
    "final_weekly_prediction = weekly_sales_prediction.copy()\n",
    "final_weekly_prediction['delta_1'] = weekly_sales_prediction['Number_of'].shift(1)\n",
    "final_weekly_prediction['delta_1'].loc['2022-08-29'] = data[['Number_of']].tail(1)['Number_of'].values\n",
    "\n",
    "final_weekly_prediction['Number_of_predicted'] = final_weekly_prediction['Number_of'] + final_weekly_prediction['delta_1']\n",
    "final_weekly_prediction.drop('Number_of', axis=1, inplace=True)\n",
    "\n",
    "final_weekly_prediction.reset_index(inplace=True)\n",
    "data_pred = pd.concat([data_pred, final_weekly_prediction[['Date', 'Number_of_predicted']]])\n",
    "\n",
    "data_pred = data_pred.set_index('Date').sort_index().asfreq('W-Mon')\n",
    "data_pred.reset_index(inplace=True)"
   ]
  },
  {
   "cell_type": "code",
   "execution_count": 63,
   "id": "4db2e314",
   "metadata": {
    "colab": {
     "base_uri": "https://localhost:8080/",
     "height": 513
    },
    "id": "4db2e314",
    "outputId": "5afe8991-1568-4d89-e32a-730d86bc28f1"
   },
   "outputs": [
    {
     "data": {
      "image/png": "[encoded data removed]",
      "text/plain": [
       "<Figure size 432x288 with 1 Axes>"
      ]
     },
     "metadata": {
      "needs_background": "light"
     },
     "output_type": "display_data"
    },
    {
     "data": {
      "image/png": "[encoded data removed]",
      "text/plain": [
       "<Figure size 432x288 with 1 Axes>"
      ]
     },
     "metadata": {
      "needs_background": "light"
     },
     "output_type": "display_data"
    }
   ],
   "source": [
    "fig, ax = plt.subplots()\n",
    "ax.scatter(\n",
    "    x=data_pred['Date'],\n",
    "    y=data_pred['Number_of'],\n",
    "    c='magenta'\n",
    ")\n",
    "ax.scatter(\n",
    "    x=data_pred['Date'],\n",
    "    y=data_pred['pred_value'],\n",
    "    c='g'\n",
    "    )\n",
    "ax.scatter(\n",
    "    x=data_pred['Date'],\n",
    "    y=data_pred['Number_of_predicted'],\n",
    "    c='b'\n",
    "    )\n",
    "    \n",
    "ax.legend(['Actual', 'Predicted (Test Data)', 'MultiStep Prediction'])\n",
    "ax.grid(True)\n",
    "\n",
    "fig, ax = plt.subplots()\n",
    "ax.plot(data_pred['Number_of'], c='magenta')\n",
    "ax.plot(data_pred['pred_value'], c='g')\n",
    "ax.plot(data_pred['Number_of_predicted'], c='b')\n",
    "ax.legend(['Actual', 'Predicted (Test Data)', 'MultiStep Prediction'])\n",
    "ax.grid(True)"
   ]
  },
  {
   "cell_type": "code",
   "execution_count": 64,
   "id": "66a72013",
   "metadata": {
    "colab": {
     "base_uri": "https://localhost:8080/",
     "height": 192
    },
    "id": "66a72013",
    "outputId": "3ba20441-06eb-485a-b7a8-96cc620e0c02"
   },
   "outputs": [
    {
     "name": "stdout",
     "output_type": "stream",
     "text": [
      "Multi step sales prediction results:\n"
     ]
    },
    {
     "data": {
      "text/html": [
       "\n",
       "  <div id=\"df-20a0a006-6709-4d9c-a54b-f3782044dd36\">\n",
       "    <div class=\"colab-df-container\">\n",
       "      <div>\n",
       "<style scoped>\n",
       "    .dataframe tbody tr th:only-of-type {\n",
       "        vertical-align: middle;\n",
       "    }\n",
       "\n",
       "    .dataframe tbody tr th {\n",
       "        vertical-align: top;\n",
       "    }\n",
       "\n",
       "    .dataframe thead th {\n",
       "        text-align: right;\n",
       "    }\n",
       "</style>\n",
       "<table border=\"1\" class=\"dataframe\">\n",
       "  <thead>\n",
       "    <tr style=\"text-align: right;\">\n",
       "      <th></th>\n",
       "      <th>Date</th>\n",
       "      <th>Number_of_predicted</th>\n",
       "    </tr>\n",
       "  </thead>\n",
       "  <tbody>\n",
       "    <tr>\n",
       "      <th>322</th>\n",
       "      <td>2022-08-29</td>\n",
       "      <td>6</td>\n",
       "    </tr>\n",
       "    <tr>\n",
       "      <th>323</th>\n",
       "      <td>2022-09-05</td>\n",
       "      <td>8</td>\n",
       "    </tr>\n",
       "    <tr>\n",
       "      <th>324</th>\n",
       "      <td>2022-09-12</td>\n",
       "      <td>1</td>\n",
       "    </tr>\n",
       "    <tr>\n",
       "      <th>325</th>\n",
       "      <td>2022-09-19</td>\n",
       "      <td>-6</td>\n",
       "    </tr>\n",
       "  </tbody>\n",
       "</table>\n",
       "</div>\n",
       "      <button class=\"colab-df-convert\" onclick=\"convertToInteractive('df-20a0a006-6709-4d9c-a54b-f3782044dd36')\"\n",
       "              title=\"Convert this dataframe to an interactive table.\"\n",
       "              style=\"display:none;\">\n",
       "        \n",
       "  <svg xmlns=\"http://www.w3.org/2000/svg\" height=\"24px\"viewBox=\"0 0 24 24\"\n",
       "       width=\"24px\">\n",
       "    <path d=\"M0 0h24v24H0V0z\" fill=\"none\"/>\n",
       "    <path d=\"M18.56 5.44l.94 2.06.94-2.06 2.06-.94-2.06-.94-.94-2.06-.94 2.06-2.06.94zm-11 1L8.5 8.5l.94-2.06 2.06-.94-2.06-.94L8.5 2.5l-.94 2.06-2.06.94zm10 10l.94 2.06.94-2.06 2.06-.94-2.06-.94-.94-2.06-.94 2.06-2.06.94z\"/><path d=\"M17.41 7.96l-1.37-1.37c-.4-.4-.92-.59-1.43-.59-.52 0-1.04.2-1.43.59L10.3 9.45l-7.72 7.72c-.78.78-.78 2.05 0 2.83L4 21.41c.39.39.9.59 1.41.59.51 0 1.02-.2 1.41-.59l7.78-7.78 2.81-2.81c.8-.78.8-2.07 0-2.86zM5.41 20L4 18.59l7.72-7.72 1.47 1.35L5.41 20z\"/>\n",
       "  </svg>\n",
       "      </button>\n",
       "      \n",
       "  <style>\n",
       "    .colab-df-container {\n",
       "      display:flex;\n",
       "      flex-wrap:wrap;\n",
       "      gap: 12px;\n",
       "    }\n",
       "\n",
       "    .colab-df-convert {\n",
       "      background-color: #E8F0FE;\n",
       "      border: none;\n",
       "      border-radius: 50%;\n",
       "      cursor: pointer;\n",
       "      display: none;\n",
       "      fill: #1967D2;\n",
       "      height: 32px;\n",
       "      padding: 0 0 0 0;\n",
       "      width: 32px;\n",
       "    }\n",
       "\n",
       "    .colab-df-convert:hover {\n",
       "      background-color: #E2EBFA;\n",
       "      box-shadow: 0px 1px 2px rgba(60, 64, 67, 0.3), 0px 1px 3px 1px rgba(60, 64, 67, 0.15);\n",
       "      fill: #174EA6;\n",
       "    }\n",
       "\n",
       "    [theme=dark] .colab-df-convert {\n",
       "      background-color: #3B4455;\n",
       "      fill: #D2E3FC;\n",
       "    }\n",
       "\n",
       "    [theme=dark] .colab-df-convert:hover {\n",
       "      background-color: #434B5C;\n",
       "      box-shadow: 0px 1px 3px 1px rgba(0, 0, 0, 0.15);\n",
       "      filter: drop-shadow(0px 1px 2px rgba(0, 0, 0, 0.3));\n",
       "      fill: #FFFFFF;\n",
       "    }\n",
       "  </style>\n",
       "\n",
       "      <script>\n",
       "        const buttonEl =\n",
       "          document.querySelector('#df-20a0a006-6709-4d9c-a54b-f3782044dd36 button.colab-df-convert');\n",
       "        buttonEl.style.display =\n",
       "          google.colab.kernel.accessAllowed ? 'block' : 'none';\n",
       "\n",
       "        async function convertToInteractive(key) {\n",
       "          const element = document.querySelector('#df-20a0a006-6709-4d9c-a54b-f3782044dd36');\n",
       "          const dataTable =\n",
       "            await google.colab.kernel.invokeFunction('convertToInteractive',\n",
       "                                                     [key], {});\n",
       "          if (!dataTable) return;\n",
       "\n",
       "          const docLinkHtml = 'Like what you see? Visit the ' +\n",
       "            '<a target=\"_blank\" href=https://colab.research.google.com/notebooks/data_table.ipynb>data table notebook</a>'\n",
       "            + ' to learn more about interactive tables.';\n",
       "          element.innerHTML = '';\n",
       "          dataTable['output_type'] = 'display_data';\n",
       "          await google.colab.output.renderOutput(dataTable, element);\n",
       "          const docLink = document.createElement('div');\n",
       "          docLink.innerHTML = docLinkHtml;\n",
       "          element.appendChild(docLink);\n",
       "        }\n",
       "      </script>\n",
       "    </div>\n",
       "  </div>\n",
       "  "
      ],
      "text/plain": [
       "          Date  Number_of_predicted\n",
       "322 2022-08-29                    6\n",
       "323 2022-09-05                    8\n",
       "324 2022-09-12                    1\n",
       "325 2022-09-19                   -6"
      ]
     },
     "execution_count": 64,
     "metadata": {},
     "output_type": "execute_result"
    }
   ],
   "source": [
    "print('Multi step sales prediction results:')\n",
    "results = data_pred.copy()\n",
    "results = results.tail(month_count_to_multistep_prediction * 4)\n",
    "results['Number_of_predicted'] = results['Number_of_predicted'].astype(int)\n",
    "results[['Date', 'Number_of_predicted']]"
   ]
  },
  {
   "cell_type": "code",
   "execution_count": 64,
   "id": "22338ee2",
   "metadata": {
    "id": "22338ee2"
   },
   "outputs": [],
   "source": []
  }
 ],
 "metadata": {
  "accelerator": "GPU",
  "colab": {
   "provenance": []
  },
  "gpuClass": "standard",
  "kernelspec": {
   "display_name": "Python 3 (ipykernel)",
   "language": "python",
   "name": "python3"
  },
  "language_info": {
   "codemirror_mode": {
    "name": "ipython",
    "version": 3
   },
   "file_extension": ".py",
   "mimetype": "text/x-python",
   "name": "python",
   "nbconvert_exporter": "python",
   "pygments_lexer": "ipython3",
   "version": "3.10.6"
  }
 },
 "nbformat": 4,
 "nbformat_minor": 5
}
